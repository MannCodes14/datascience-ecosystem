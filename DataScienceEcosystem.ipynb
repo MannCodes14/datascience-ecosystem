{
 "cells": [
  {
   "cell_type": "markdown",
   "id": "26eb47f6-f2fa-43cc-8d6d-607ccf421ad8",
   "metadata": {},
   "source": [
    "# Data Science Tools and Ecosystem"
   ]
  },
  {
   "cell_type": "markdown",
   "id": "37106420-5d28-447b-ad1c-43b532b49803",
   "metadata": {},
   "source": [
    "In this notebook, Data Science Tools and Ecosystem are summarized."
   ]
  },
  {
   "cell_type": "markdown",
   "id": "7c4550d8-c8cb-436c-98ff-a48a5528e0e9",
   "metadata": {},
   "source": [
    "Some of the popular languages that Data Scientists use are:\n",
    "\n",
    "1. Python\n",
    "2. R\n",
    "3. SQL\n",
    "4. Julia\n",
    "5. Scala\n"
   ]
  },
  {
   "cell_type": "markdown",
   "id": "c625f8e3-413f-489f-8683-73560e43fa8f",
   "metadata": {},
   "source": [
    "Some of the commonly used libraries used by Data Scientists include:\n",
    "\n",
    "1. NumPy\n",
    "2. Pandas\n",
    "3. Matplotlib\n",
    "4. Scikit-learn\n",
    "5. TensorFlow\n"
   ]
  },
  {
   "cell_type": "markdown",
   "id": "d7a5ed8d-affc-450f-a41d-5612064a8fab",
   "metadata": {},
   "source": [
    "| Data Science Tools |\n",
    "|--------------------|\n",
    "| Jupyter Notebook   |\n",
    "| RStudio            |\n",
    "| Apache Zeppelin    |\n"
   ]
  },
  {
   "cell_type": "markdown",
   "id": "382fe0b4-f31c-4654-bbb4-94afb53642a4",
   "metadata": {},
   "source": [
    "### Below are a few examples of evaluating arithmetic expressions in Python.\n"
   ]
  },
  {
   "cell_type": "code",
   "execution_count": 8,
   "id": "aa59048d-1603-4ea7-ac93-8a169a6e36a2",
   "metadata": {},
   "outputs": [
    {
     "data": {
      "text/plain": [
       "17"
      ]
     },
     "execution_count": 8,
     "metadata": {},
     "output_type": "execute_result"
    }
   ],
   "source": [
    "# This is a simple arithmetic expression to multiply then add integers.\n",
    "(3 * 4) + 5\n"
   ]
  },
  {
   "cell_type": "code",
   "execution_count": 10,
   "id": "bafc0311-08da-49c7-82ee-22f04880bbed",
   "metadata": {},
   "outputs": [
    {
     "data": {
      "text/plain": [
       "3.3333333333333335"
      ]
     },
     "execution_count": 10,
     "metadata": {},
     "output_type": "execute_result"
    }
   ],
   "source": [
    "# This will convert 200 minutes to hours by dividing by 60.\n",
    "200 / 60\n"
   ]
  },
  {
   "cell_type": "markdown",
   "id": "131be779-0ce9-4af8-b873-54438b6ffef6",
   "metadata": {},
   "source": [
    "**Objectives:**\n",
    "- List popular languages for Data Science.\n",
    "- List commonly used libraries in Data Science.\n",
    "- Create tables using Markdown.\n",
    "- Perform basic arithmetic operations using Python.\n",
    "- Convert time units (minutes to hours).\n"
   ]
  },
  {
   "cell_type": "markdown",
   "id": "f25e8f4c-4515-487a-8abf-160d18b0b556",
   "metadata": {},
   "source": [
    "## Author\n",
    "Mann Dharmendra Shah\n"
   ]
  },
  {
   "cell_type": "code",
   "execution_count": null,
   "id": "a91a0a6a-b35e-4647-b8cd-acb218d517bb",
   "metadata": {},
   "outputs": [],
   "source": []
  }
 ],
 "metadata": {
  "kernelspec": {
   "display_name": "Python 3 (ipykernel)",
   "language": "python",
   "name": "python3"
  },
  "language_info": {
   "codemirror_mode": {
    "name": "ipython",
    "version": 3
   },
   "file_extension": ".py",
   "mimetype": "text/x-python",
   "name": "python",
   "nbconvert_exporter": "python",
   "pygments_lexer": "ipython3",
   "version": "3.12.3"
  }
 },
 "nbformat": 4,
 "nbformat_minor": 5
}
